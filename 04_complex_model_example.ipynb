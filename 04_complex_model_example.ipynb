{
 "cells": [
  {
   "cell_type": "markdown",
   "metadata": {},
   "source": [
    "# 04 - Complex model example\n",
    "\n",
    "* TODO: create complex hierarchical model that consists of multiple steps and datasets.\n",
    "* TODO: key learnings: modeling frameworks allow modular code design, but are usually invasive, i.e. your model codebase is tightly coupled to the framework.\n",
    "* TODO: non-invasive code designs are possible with abstract interface and adapter layers internally, or by adding a wrapper layer externally.\n",
    "* TODO: explain how the framework optimise/fit function interacts with your Python objects during the fit"
   ]
  },
  {
   "cell_type": "code",
   "execution_count": 1,
   "metadata": {},
   "outputs": [],
   "source": []
  }
 ],
 "metadata": {
  "kernelspec": {
   "display_name": "py-model-fit",
   "language": "python",
   "name": "python3"
  },
  "language_info": {
   "codemirror_mode": {
    "name": "ipython",
    "version": 3
   },
   "file_extension": ".py",
   "mimetype": "text/x-python",
   "name": "python",
   "nbconvert_exporter": "python",
   "pygments_lexer": "ipython3",
   "version": "3.11.9"
  }
 },
 "nbformat": 4,
 "nbformat_minor": 2
}
