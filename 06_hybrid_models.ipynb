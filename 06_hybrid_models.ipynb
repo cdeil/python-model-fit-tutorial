{
 "cells": [
  {
   "cell_type": "markdown",
   "metadata": {},
   "source": [
    "# 06 - Hybrid models\n",
    "\n",
    "* TODO: explain common hybrid and hierarchical/staged model architectures, e.g. small NN component in the middle or NN regressor at the end.\n",
    "* TODO: show how to do global optimization of hybrid non-linear and ML model.\n",
    "* TODO: maybe try out [optax](https://optax.readthedocs.io/en/latest/) since it should be much more efficient for this type of model?"
   ]
  },
  {
   "cell_type": "code",
   "execution_count": null,
   "metadata": {},
   "outputs": [],
   "source": []
  }
 ],
 "metadata": {
  "language_info": {
   "name": "python"
  }
 },
 "nbformat": 4,
 "nbformat_minor": 2
}
