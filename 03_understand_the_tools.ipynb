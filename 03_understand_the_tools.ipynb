{
 "cells": [
  {
   "cell_type": "markdown",
   "id": "dab81aea673e4b65",
   "metadata": {},
   "source": [
    "## 03 - Understand the tools\n",
    "\n",
    "- TODO: explain how `scipy.optimize.curve_fit` and `scipy.optimize.least_squares` and `scipy.optimize.minimize` relate and when to use which.\n",
    "- TODO: explain how `iminuit.Minuit` and `iminuit.cost.LeastSquares` work in more detail showing options they have.\n",
    "- TODO: explain the built-in least-squares cost functions and why typically you don't want to use them but write your own. Show examples how to do that."
   ]
  },
  {
   "cell_type": "code",
   "execution_count": 8,
   "id": "d271b93fbe2203e9",
   "metadata": {},
   "outputs": [],
   "source": []
  }
 ],
 "metadata": {
  "kernelspec": {
   "display_name": "Python 3",
   "language": "python",
   "name": "python3"
  },
  "language_info": {
   "codemirror_mode": {
    "name": "ipython",
    "version": 3
   },
   "file_extension": ".py",
   "mimetype": "text/x-python",
   "name": "python",
   "nbconvert_exporter": "python",
   "pygments_lexer": "ipython3",
   "version": "3.11.9"
  }
 },
 "nbformat": 4,
 "nbformat_minor": 5
}
